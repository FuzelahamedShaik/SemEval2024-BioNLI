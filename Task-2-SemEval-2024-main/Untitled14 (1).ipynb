{
  "nbformat": 4,
  "nbformat_minor": 0,
  "metadata": {
    "colab": {
      "provenance": []
    },
    "kernelspec": {
      "name": "python3",
      "display_name": "Python 3"
    },
    "language_info": {
      "name": "python"
    }
  },
  "cells": [
    {
      "cell_type": "code",
      "source": [
        "!pip install transformers"
      ],
      "metadata": {
        "colab": {
          "base_uri": "https://localhost:8080/"
        },
        "id": "T0GCMT7nPeFd",
        "outputId": "dcdd325b-ee9f-4331-e47a-ab4aac2fff84"
      },
      "execution_count": 1,
      "outputs": [
        {
          "output_type": "stream",
          "name": "stdout",
          "text": [
            "Requirement already satisfied: transformers in /usr/local/lib/python3.10/dist-packages (4.35.2)\n",
            "Requirement already satisfied: filelock in /usr/local/lib/python3.10/dist-packages (from transformers) (3.13.1)\n",
            "Requirement already satisfied: huggingface-hub<1.0,>=0.16.4 in /usr/local/lib/python3.10/dist-packages (from transformers) (0.20.3)\n",
            "Requirement already satisfied: numpy>=1.17 in /usr/local/lib/python3.10/dist-packages (from transformers) (1.23.5)\n",
            "Requirement already satisfied: packaging>=20.0 in /usr/local/lib/python3.10/dist-packages (from transformers) (23.2)\n",
            "Requirement already satisfied: pyyaml>=5.1 in /usr/local/lib/python3.10/dist-packages (from transformers) (6.0.1)\n",
            "Requirement already satisfied: regex!=2019.12.17 in /usr/local/lib/python3.10/dist-packages (from transformers) (2023.6.3)\n",
            "Requirement already satisfied: requests in /usr/local/lib/python3.10/dist-packages (from transformers) (2.31.0)\n",
            "Requirement already satisfied: tokenizers<0.19,>=0.14 in /usr/local/lib/python3.10/dist-packages (from transformers) (0.15.1)\n",
            "Requirement already satisfied: safetensors>=0.3.1 in /usr/local/lib/python3.10/dist-packages (from transformers) (0.4.2)\n",
            "Requirement already satisfied: tqdm>=4.27 in /usr/local/lib/python3.10/dist-packages (from transformers) (4.66.1)\n",
            "Requirement already satisfied: fsspec>=2023.5.0 in /usr/local/lib/python3.10/dist-packages (from huggingface-hub<1.0,>=0.16.4->transformers) (2023.6.0)\n",
            "Requirement already satisfied: typing-extensions>=3.7.4.3 in /usr/local/lib/python3.10/dist-packages (from huggingface-hub<1.0,>=0.16.4->transformers) (4.5.0)\n",
            "Requirement already satisfied: charset-normalizer<4,>=2 in /usr/local/lib/python3.10/dist-packages (from requests->transformers) (3.3.2)\n",
            "Requirement already satisfied: idna<4,>=2.5 in /usr/local/lib/python3.10/dist-packages (from requests->transformers) (3.6)\n",
            "Requirement already satisfied: urllib3<3,>=1.21.1 in /usr/local/lib/python3.10/dist-packages (from requests->transformers) (2.0.7)\n",
            "Requirement already satisfied: certifi>=2017.4.17 in /usr/local/lib/python3.10/dist-packages (from requests->transformers) (2023.11.17)\n"
          ]
        }
      ]
    },
    {
      "cell_type": "code",
      "execution_count": null,
      "metadata": {
        "id": "7YvzQTu5Pbgd"
      },
      "outputs": [],
      "source": [
        "from transformers import AutoTokenizer, AutoModel\n",
        "import torch\n",
        "import pandas as pd\n",
        "\n",
        "class Load_Preprocess(model,tokenizer):\n",
        "    def __init__(self):\n",
        "\n",
        "        self.tokenizer = AutoTokenizer.from_pretrained(tokenizer)\n",
        "        self.model = AutoModel.from_pretrained(model)\n",
        "        self.word2index = {}\n",
        "        self.max_len = 0\n",
        "\n",
        "        self.Label2num = {'Entailment': 1, \"Contradiction\": 0}\n",
        "\n",
        "        self.train_df = self.sentence_similarity(model, tokenizer, '/content/drive/MyDrive/SemEval2024/Task-2-SemEval-2024-main/ctakes/Dev_Statements_cTAKES_Processed.json')\n",
        "        self.val_df = self.sentence_similarity(model, tokenizer, '/content/drive/MyDrive/SemEval2024/Task-2-SemEval-2024-main/ctakes/Dev_Statements_cTAKES_Processed.json')\n",
        "        self.test_df = self.sentence_similarity(model, tokenizer, '/content/drive/MyDrive/SemEval2024/Task-2-SemEval-2024-main/ctakes/Dev_Statements_cTAKES_Processed.json')\n",
        "\n",
        "    def sentence_similarity(self, model, tokenizer, file_path):\n",
        "\n",
        "      df = pd.read_csv(file_path)\n",
        "\n",
        "      inputs1 = tokenizer(df['statement'], return_tensors=\"pt\", truncation=True, padding=True)\n",
        "      inputs2 = tokenizer(df['ctr_trimmed'], return_tensors=\"pt\", truncation=True, padding=True)\n",
        "\n",
        "      with torch.no_grad():\n",
        "          outputs1 = model(**inputs1)\n",
        "          outputs2 = model(**inputs2)\n",
        "\n",
        "      embeddings1 = outputs1.pooler_output\n",
        "      embeddings2 = outputs2.pooler_output\n",
        "\n",
        "      similarity_score = torch.nn.functional.cosine_similarity(embeddings1, embeddings2).item()\n",
        "\n",
        "      return similarity_score"
      ]
    }
  ]
}